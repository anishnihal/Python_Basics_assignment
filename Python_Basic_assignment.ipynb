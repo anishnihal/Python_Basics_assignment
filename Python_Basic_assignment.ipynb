{
  "nbformat": 4,
  "nbformat_minor": 0,
  "metadata": {
    "colab": {
      "provenance": []
    },
    "kernelspec": {
      "name": "python3",
      "display_name": "Python 3"
    },
    "language_info": {
      "name": "python"
    }
  },
  "cells": [
    {
      "cell_type": "markdown",
      "source": [
        "#Theory Questions"
      ],
      "metadata": {
        "id": "tE5Qhcod3-ae"
      }
    },
    {
      "cell_type": "markdown",
      "source": [
        "1.What is python, and why is it popular?\n",
        "  - Python is a high-level, interpreted programming language known for its simplicity, readability, and versatility.\n",
        "It was created by Guido van Rossum and first released in 1991.\n",
        "The name Python is said to derive from the British comedy series Monty Python's Flying Circus.\n",
        "\n",
        " **Features of Python:**\n",
        "\n",
        " i)Easy to read and write(uses clean, English-like syntax)\n",
        "\n",
        " ii)Interpreted (runs line-by-line, no need to compile)\n",
        "\n",
        " iii)Large standard library (batteries included)\n",
        "\n",
        " iv)Cross-platform (runs on Windows, macOS, Linux, etc.)\n",
        "\n",
        " v)Dynamically typed (no need to declare variable types)\n",
        "\n",
        " **Why Is Python Popular?**\n",
        "\n",
        " i)Beginner-friendly: Great for people new to programming.\n",
        "\n",
        " ii)Massive community support: Tons of tutorials, libraries, and frameworks.\n",
        "\n",
        " iii)Rapid development: You can prototype and iterate quickly.\n",
        "\n",
        " iv)Versatile: Used in web development, data science, AI/ML, automation, games, IoT, and more.\n",
        "\n",
        " v)Powerful libraries:\n",
        "\n",
        " Data science: pandas, numpy, matplotlib\n",
        "\n",
        " Machine learning: scikit-learn, TensorFlow, PyTorch\n",
        "\n",
        " Web development: Django, Flask"
      ],
      "metadata": {
        "id": "SHvLJZ8D4JS7"
      }
    },
    {
      "cell_type": "markdown",
      "source": [
        "2.What is an interpreter in Python?\n",
        "  - An interpreter in Python is a program that reads and executes your Python code line by line. It translates the high-level Python code (human-readable) into machine code that your computer can understand — but one instruction at a time, not all at once.\n",
        "\n",
        "   **Characteristics**\n",
        "\n",
        "  i)Line-by-line execution: The interpreter processes one line of code at a time, which helps with debugging.\n",
        "\n",
        "  ii)No compilation step: Unlike compiled languages (like C or Java), Python doesn’t need a separate compilation step before running.\n",
        "\n",
        "  iii)Interactive mode: You can use the  Python interpreter directly in a terminal or shell to test short pieces of code (e.g., using the python or python3 command).\n",
        "\n",
        "\n"
      ],
      "metadata": {
        "id": "X9H_VhJV9Gu2"
      }
    },
    {
      "cell_type": "markdown",
      "source": [
        "3.What are pre-defined keywords in Python?\n",
        "  - Pre-defined keywords in Python are reserved words that have special meaning to the Python interpreter. You cannot use them as variable names, function names, or identifiers because they are part of the language's syntax and structure\n",
        "\n",
        "  for example :-\n",
        "  False,               class,              from,                or,\n",
        "None,                continue,            global,              pass,\n",
        "True,                def,                 if,                  raise,\n",
        "and,                 del,                 import,              return,\n",
        "as,                  elif,                in,                  try,\n",
        "assert,              else,                is,                  while,\n",
        "async,               except,              lambda,              with,\n",
        "await,               finally,             nonlocal,            yield,\n",
        "break,               for,                 not."
      ],
      "metadata": {
        "id": "r3zYJiKaSPLP"
      }
    },
    {
      "cell_type": "markdown",
      "source": [
        "4.Can keywords be used as variable names?\n",
        "  - No, keywords cannot be used as variable names in Python.\n",
        "\n",
        "  Because keywords are reserved words that the Python interpreter uses to understand the structure and meaning of your code. Using them as variable names would confuse the interpreter and result in a syntax error."
      ],
      "metadata": {
        "id": "xbIkZb2fTgSM"
      }
    },
    {
      "cell_type": "markdown",
      "source": [
        "5.What is mutability in Python?\n",
        "  - In Python, mutability refers to whether an object’s value can be changed after it is created.\n",
        "\n",
        "  Examples:- list, dict, set"
      ],
      "metadata": {
        "id": "d_9srpUaUHGg"
      }
    },
    {
      "cell_type": "code",
      "source": [
        "my_list = [1, 2, 3]\n",
        "my_list[0] = 5"
      ],
      "metadata": {
        "id": "wzxWP45RP9zb"
      },
      "execution_count": 3,
      "outputs": []
    },
    {
      "cell_type": "markdown",
      "source": [
        "6.Why are lists mutable, but tuples are immutable?\n",
        "  - **Why Lists Are Mutable**\n",
        "\n",
        " i)Lists are designed for flexibility: You often need to add, remove, or modify elements in real-world programs.\n",
        "\n",
        " ii)Python implements lists with dynamic memory allocation, so elements can be changed or extended without creating a new object.\n",
        "\n",
        " **Why Tuples Are Immutable**\n",
        "\n",
        " i)Tuples are meant to be fixed collections of values (like records or coordinates).\n",
        "\n",
        " ii)Python implements them to be lightweight, faster, and hashable (can be used as keys in dictionaries).\n",
        "\n",
        " iii)This immutability helps ensure data integrity and enables safe usage in situations where changes shouldn't happen."
      ],
      "metadata": {
        "id": "kWV2suwLUhyk"
      }
    },
    {
      "cell_type": "markdown",
      "source": [
        "7.What is the difference between \"==\" and \"is\" operators in Python?\n",
        "  - In Python, == and is are both comparison operators, but they compare different things:-\n",
        "\n",
        "   **== (Equality Operator**)\n",
        "\n",
        "   i)Compares values.\n",
        "\n",
        "   ii)Returns True if the values of two variables are same\n",
        "\n",
        "   for example:-\n",
        "\n",
        "   a = [1, 2, 3]\n",
        "\n",
        "   b = [1, 2, 3]\n",
        "   \n",
        "   print(a == b)\n",
        "\n",
        "   Result will be True: values are the same\n",
        "\n",
        "   **is (Identity Operator)**\n",
        "\n",
        "   i)Compares object identities.\n",
        "\n",
        "   ii)Returns True if both variables point to the same object in memory.\n",
        "\n",
        "   for example:-\n",
        "\n",
        "   a = [1, 2, 3]\n",
        "\n",
        "   b = [1, 2, 3]\n",
        "   \n",
        "   print(a is b)\n",
        "\n",
        "   Result will be False: different objects in memory\n",
        "\n",
        "\n",
        "\n"
      ],
      "metadata": {
        "id": "c_8TEbkMw8Eo"
      }
    },
    {
      "cell_type": "markdown",
      "source": [
        "8. What are logical operators in python?\n",
        "- Logical operators in Python are used to combine conditional statements (i.e., expressions that return True or False). They let you control the logic flow in if statements and other conditional structures.\n",
        "\n",
        "    The 3 Logical Operators in Python:\n",
        "\n",
        "    i)and\n",
        "\n",
        "    Returns True if both are True\n",
        "\n",
        "    example- True and True Results(True)\n",
        "\n",
        "    ii)or\n",
        "\n",
        "    Returns True if at least one is True\n",
        "\n",
        "    example- True or False Results(True)\n",
        "\n",
        "    iii)not\n",
        "\n",
        "    Reverses the Boolean value\n",
        "\n",
        "    example- not True Results(False)\n"
      ],
      "metadata": {
        "id": "OtP5m2mRWtNT"
      }
    },
    {
      "cell_type": "markdown",
      "source": [
        "9.What is type casting in Python?\n",
        "  - Type casting in Python means converting a value from one data type to another, like from a string to an integer, or from a float to a string.\n",
        "\n",
        "   **Types of Type Casting:**\n",
        "\n",
        "   1.Explicit Type Casting(Manual)\n",
        "\n",
        "   Suppose you are a programer and wants to convert the data type using Python functions like:\n",
        "\n",
        "   int() - converts to integer\n",
        "\n",
        "   float() – converts to float\n",
        "\n",
        "   str() – converts to string\n",
        "\n",
        "   bool() – converts to boolean\n",
        "\n",
        "   2.Implicit Type Casting (Automatic)\n",
        "\n",
        "   Python usually automatically converts one type to another when needed.\n",
        "\n",
        "   Example:-\n",
        "\n",
        "   a = 3\n",
        "\n",
        "   b = 2.0\n",
        "   \n",
        "   c = a + b\n",
        "   \n",
        "   print(c)\n",
        "\n",
        "   Result will be 5.0\n"
      ],
      "metadata": {
        "id": "Vs38U2R51IgV"
      }
    },
    {
      "cell_type": "markdown",
      "source": [
        "10.What is the difference between implicit and explicit type casting?\n",
        "  - **Implicit Type Casting (Automatic)**\n",
        "\n",
        " i)Done automatically by Python\n",
        "\n",
        " ii)Happens when there's no risk of data loss\n",
        "\n",
        " iii)Used in operations involving mixed data types\n",
        "\n",
        " **Explicit Type Casting (Manual)**\n",
        "\n",
        " i)Done by the programmer\n",
        "\n",
        " ii)You intentionally convert one data type to another\n",
        "\n",
        " iii)Required when you want precise control over conversions"
      ],
      "metadata": {
        "id": "cJ3zHKyqVfiA"
      }
    },
    {
      "cell_type": "markdown",
      "source": [
        "11.What is the purpose of conditional statements in Python?\n",
        "- The purpose of conditional statements in Python is to control the flow of your program by allowing it to make decisions.\n",
        "\n",
        " Conditional statement let your code execute certain blocks only when specific conditions are true — just like how we make decisions in real life\n",
        "\n",
        " Example - \"If it rains, take an umbrella\".\n",
        "\n",
        " **Main Conditional Statements in Python:**\n",
        "\n",
        " i)if\n",
        "\n",
        " It Execute a block if the condition is True.\n",
        "\n",
        " Example\n",
        "\n",
        " age = 18\n",
        "\n",
        " if age >= 18:\n",
        "  \n",
        "  print(\"You are an aduld\")\n",
        "\n",
        "  Result will be 'You are an adult'\n",
        "\n",
        " ii)if, else\n",
        "\n",
        " Provides an alternative if the condition is False.\n",
        "\n",
        " Example\n",
        "\n",
        " age = 15\n",
        "\n",
        " if age >= 18:\n",
        "\n",
        "  print(\"You are an adult\")\n",
        "\n",
        " else:\n",
        "\n",
        "  Print(\"You are still minor\")\n",
        "   \n",
        "   Result will be 'You are still minor'\n",
        "\n",
        " iii)if, elif, else\n",
        "\n",
        " Checks multiple conditions in sequence.\n",
        "\n",
        " Example\n",
        "\n",
        " marks = 85\n",
        "\n",
        " if marks >= 90:\n",
        "\n",
        "  print(\"A Grade\")\n",
        "\n",
        " elif marks >= 75:\n",
        "\n",
        "  print(\"B Grade\")\n",
        "\n",
        " else:\n",
        "\n",
        "   print(\"C Grade\")\n",
        "\n",
        "   Result will be 'B Grade'"
      ],
      "metadata": {
        "id": "N9qNWOjvZV9U"
      }
    },
    {
      "cell_type": "markdown",
      "source": [
        "12.How does the elif statement work?\n",
        "  - The elif statement in Python stands for \"else if\". It allows you to check multiple conditions one by one after an initial if statement.\n",
        "\n",
        "   **How does it work**\n",
        "\n",
        "   i)Python checks the if condition first.\n",
        "\n",
        " ii)If it's False, it checks the first elif condition.\n",
        "\n",
        " iii)If that's also False, it checks the next elif, and so on.\n",
        "\n",
        " iv)The first condition that is True gets executed, and no further checks are done.\n",
        "\n",
        " v)If none are True, the else block (if present) runs.\n",
        "\n"
      ],
      "metadata": {
        "id": "4TFJhgI3ZU5g"
      }
    },
    {
      "cell_type": "code",
      "source": [
        "score = 75\n",
        "\n",
        "if score >= 90:\n",
        "    print(\"Grade A\")\n",
        "elif score >= 80:\n",
        "    print(\"Grade B\")\n",
        "elif score >= 70:\n",
        "    print(\"Grade C\")\n",
        "else:\n",
        "    print(\"Grade D\")"
      ],
      "metadata": {
        "colab": {
          "base_uri": "https://localhost:8080/"
        },
        "id": "EMwWV1-AJBzc",
        "outputId": "bf24a17c-f14b-4ff3-aa75-e5e622fa22c6"
      },
      "execution_count": 1,
      "outputs": [
        {
          "output_type": "stream",
          "name": "stdout",
          "text": [
            "Grade C\n"
          ]
        }
      ]
    },
    {
      "cell_type": "markdown",
      "source": [
        "13.What is the difference between for and while loops?\n",
        "  - The difference between for and while loops in Python lies i how and when they repeat:\n",
        "\n",
        "   **for Loop:**\n",
        "  Repeats a fixed number of times\n",
        "  \n",
        "  i)Used when you know in advance how many times to loop.\n",
        "\n",
        " ii)Often used with sequences like lists, strings, or range().\n",
        "\n",
        " **while Loop:**\n",
        "  Repeats as long as a condition is true\n",
        "\n",
        " i)Used when the number of repetitions is unknown.\n",
        "\n",
        " ii)Keeps running until the condition becomes False."
      ],
      "metadata": {
        "id": "TIbru7UgJdzJ"
      }
    },
    {
      "cell_type": "markdown",
      "source": [
        "14.Describe a scenario where a while loop is more suitable than a for loop.\n",
        " - A while loop is more suitable than a for loop when you don’t know in advance how many times the loop needs to run, and you want to repeat an action until a certain condition is met.\n",
        "\n",
        "  **Example Scenario: User login system**"
      ],
      "metadata": {
        "id": "MCl3gnB-LbX1"
      }
    },
    {
      "cell_type": "code",
      "source": [
        "correct_password = \"pwskills\"\n",
        "user_input = \"\"\n",
        "\n",
        "while user_input != correct_password:\n",
        "    user_input = input(\"Enter your password: \")\n",
        "\n",
        "print(\"Access granted!\")\n"
      ],
      "metadata": {
        "colab": {
          "base_uri": "https://localhost:8080/"
        },
        "id": "jqreck_pMggT",
        "outputId": "39b5529c-dd09-405f-e6fd-eee7f9deb641"
      },
      "execution_count": 2,
      "outputs": [
        {
          "output_type": "stream",
          "name": "stdout",
          "text": [
            "Enter your password: pw\n",
            "Enter your password: pws\n",
            "Enter your password: pwski\n",
            "Enter your password: pwskil\n",
            "Enter your password: pwskill\n",
            "Enter your password: pwskills\n",
            "Access granted!\n"
          ]
        }
      ]
    },
    {
      "cell_type": "markdown",
      "source": [
        " Why we use while loop rather than for loop?\n",
        "\n",
        " i)Because we don't know how many attempts the user will need.\n",
        "\n",
        " ii)The loop will continue as long as the password is incorrect.\n",
        "\n",
        " iii)So, thats the reason we use while loop rather than for loop."
      ],
      "metadata": {
        "id": "Q33MvHfrNFKc"
      }
    },
    {
      "cell_type": "markdown",
      "source": [
        "#Practical Questions"
      ],
      "metadata": {
        "id": "faTZ1LA1edsj"
      }
    },
    {
      "cell_type": "markdown",
      "source": [
        "1.Write a Python program to print \"Hello, World!\""
      ],
      "metadata": {
        "id": "6nq1FbJRevOP"
      }
    },
    {
      "cell_type": "code",
      "execution_count": null,
      "metadata": {
        "colab": {
          "base_uri": "https://localhost:8080/"
        },
        "id": "y8zNdJ_ZcoMa",
        "outputId": "aea9089b-39ed-44bb-9332-39759a435a23"
      },
      "outputs": [
        {
          "output_type": "stream",
          "name": "stdout",
          "text": [
            "Hello, World!\n"
          ]
        }
      ],
      "source": [
        "print(\"Hello, World!\")"
      ]
    },
    {
      "cell_type": "markdown",
      "source": [
        "2.Write a Python program that displays your name and age."
      ],
      "metadata": {
        "id": "wawEVkqbfB5I"
      }
    },
    {
      "cell_type": "code",
      "source": [
        "name = (\"Anish Nihal\")\n",
        "name\n"
      ],
      "metadata": {
        "colab": {
          "base_uri": "https://localhost:8080/",
          "height": 36
        },
        "id": "UVQwlQi2dtOp",
        "outputId": "524de9d6-ae5b-461f-e307-645e31226177"
      },
      "execution_count": null,
      "outputs": [
        {
          "output_type": "execute_result",
          "data": {
            "text/plain": [
              "'Anish Nihal'"
            ],
            "application/vnd.google.colaboratory.intrinsic+json": {
              "type": "string"
            }
          },
          "metadata": {},
          "execution_count": 3
        }
      ]
    },
    {
      "cell_type": "code",
      "source": [
        "age = (\"22\")\n",
        "age"
      ],
      "metadata": {
        "colab": {
          "base_uri": "https://localhost:8080/",
          "height": 36
        },
        "id": "zp-bJyD7fZwR",
        "outputId": "1a26983f-cb5d-4e4e-be2a-b702fba1cba6"
      },
      "execution_count": null,
      "outputs": [
        {
          "output_type": "execute_result",
          "data": {
            "text/plain": [
              "'22'"
            ],
            "application/vnd.google.colaboratory.intrinsic+json": {
              "type": "string"
            }
          },
          "metadata": {},
          "execution_count": 4
        }
      ]
    },
    {
      "cell_type": "markdown",
      "source": [
        "3.Write code to print all the pre_defined keywords in Python using the keyword library."
      ],
      "metadata": {
        "id": "9aJGq0-SfmQv"
      }
    },
    {
      "cell_type": "code",
      "source": [
        "import keyword\n",
        "\n",
        "print(keyword.kwlist)"
      ],
      "metadata": {
        "colab": {
          "base_uri": "https://localhost:8080/"
        },
        "id": "n-NzFuBijUm_",
        "outputId": "a77e2c55-0284-4f48-b8b8-babf40785d37"
      },
      "execution_count": null,
      "outputs": [
        {
          "output_type": "stream",
          "name": "stdout",
          "text": [
            "['False', 'None', 'True', 'and', 'as', 'assert', 'async', 'await', 'break', 'class', 'continue', 'def', 'del', 'elif', 'else', 'except', 'finally', 'for', 'from', 'global', 'if', 'import', 'in', 'is', 'lambda', 'nonlocal', 'not', 'or', 'pass', 'raise', 'return', 'try', 'while', 'with', 'yield']\n"
          ]
        }
      ]
    },
    {
      "cell_type": "markdown",
      "source": [
        "                                                            or"
      ],
      "metadata": {
        "id": "uD6urP_Jj6Lw"
      }
    },
    {
      "cell_type": "code",
      "source": [
        "help(\"keywords\")"
      ],
      "metadata": {
        "colab": {
          "base_uri": "https://localhost:8080/"
        },
        "id": "N3SvcAZ9fiqU",
        "outputId": "012a6b82-a5b8-40c6-d618-d2b5d98bbf70"
      },
      "execution_count": null,
      "outputs": [
        {
          "output_type": "stream",
          "name": "stdout",
          "text": [
            "\n",
            "Here is a list of the Python keywords.  Enter any keyword to get more help.\n",
            "\n",
            "False               class               from                or\n",
            "None                continue            global              pass\n",
            "True                def                 if                  raise\n",
            "and                 del                 import              return\n",
            "as                  elif                in                  try\n",
            "assert              else                is                  while\n",
            "async               except              lambda              with\n",
            "await               finally             nonlocal            yield\n",
            "break               for                 not                 \n",
            "\n"
          ]
        }
      ]
    },
    {
      "cell_type": "markdown",
      "source": [
        "4.Write a program that checks if a given word is a python keyword."
      ],
      "metadata": {
        "id": "vJMh_JwVkEIu"
      }
    },
    {
      "cell_type": "code",
      "source": [
        "import keyword\n",
        "\n",
        "def is_python_keyword(word):\n",
        "    return keyword.iskeyword(word)\n",
        "\n",
        "user_input = input(\"Enter a word to check if it's a Python keyword: \")\n",
        "\n",
        "if is_python_keyword(user_input):\n",
        "    print(f\"'{user_input}' is a Python keyword.\")\n",
        "else:\n",
        "    print(f\"'{user_input}' is NOT a Python keyword.\")"
      ],
      "metadata": {
        "id": "a9JQynQsLUvN",
        "colab": {
          "base_uri": "https://localhost:8080/"
        },
        "outputId": "6688698b-592e-4d1c-ac50-4f99f0418b98"
      },
      "execution_count": null,
      "outputs": [
        {
          "output_type": "stream",
          "name": "stdout",
          "text": [
            "Enter a word to check if it's a Python keyword: True\n",
            "'True' is a Python keyword.\n"
          ]
        }
      ]
    },
    {
      "cell_type": "markdown",
      "source": [
        "5.Create a list and tuple in python, and demonstrate how attempting to change an element works differently for each."
      ],
      "metadata": {
        "id": "sSCYOLWwLxRu"
      }
    },
    {
      "cell_type": "markdown",
      "source": [
        "- List"
      ],
      "metadata": {
        "id": "_mvXKJJgOWRv"
      }
    },
    {
      "cell_type": "code",
      "source": [
        "shopping_list = [\"lady finger\", \"tomato\", \"potato\", \"onions\", \"lemon\"]\n",
        "type(shopping_list)"
      ],
      "metadata": {
        "colab": {
          "base_uri": "https://localhost:8080/"
        },
        "id": "xO4Jby4YK0HT",
        "outputId": "2cf113c3-9912-4665-a9c1-65b47aa40a0a"
      },
      "execution_count": null,
      "outputs": [
        {
          "output_type": "execute_result",
          "data": {
            "text/plain": [
              "list"
            ]
          },
          "metadata": {},
          "execution_count": 6
        }
      ]
    },
    {
      "cell_type": "code",
      "source": [
        "shopping_list[0] = \"cabbage\"\n",
        "shopping_list"
      ],
      "metadata": {
        "colab": {
          "base_uri": "https://localhost:8080/"
        },
        "id": "qijxlFUENyDw",
        "outputId": "5e2c356b-5b02-43b1-fc0f-3c260a7333a9"
      },
      "execution_count": null,
      "outputs": [
        {
          "output_type": "execute_result",
          "data": {
            "text/plain": [
              "['cabbage', 'tomato', 'potato', 'onions', 'lemon']"
            ]
          },
          "metadata": {},
          "execution_count": 7
        }
      ]
    },
    {
      "cell_type": "markdown",
      "source": [
        "- Tuple"
      ],
      "metadata": {
        "id": "pzwVwFalOaca"
      }
    },
    {
      "cell_type": "code",
      "source": [
        "point = (1, 2, 3, 4, 5)\n",
        "type(point)"
      ],
      "metadata": {
        "colab": {
          "base_uri": "https://localhost:8080/"
        },
        "id": "8uoegNfDOLPs",
        "outputId": "4b699490-9a4a-4962-82a7-779b5d5a9e86"
      },
      "execution_count": null,
      "outputs": [
        {
          "output_type": "execute_result",
          "data": {
            "text/plain": [
              "tuple"
            ]
          },
          "metadata": {},
          "execution_count": 8
        }
      ]
    },
    {
      "cell_type": "code",
      "source": [
        "point[0]"
      ],
      "metadata": {
        "colab": {
          "base_uri": "https://localhost:8080/"
        },
        "id": "NY7Zaix3OqQL",
        "outputId": "d4066c29-581e-4af9-9242-21808c482847"
      },
      "execution_count": null,
      "outputs": [
        {
          "output_type": "execute_result",
          "data": {
            "text/plain": [
              "1"
            ]
          },
          "metadata": {},
          "execution_count": 10
        }
      ]
    },
    {
      "cell_type": "code",
      "source": [
        "point[0] = 6"
      ],
      "metadata": {
        "colab": {
          "base_uri": "https://localhost:8080/",
          "height": 141
        },
        "id": "TtCVADk5O0wO",
        "outputId": "5fd1c35f-36b7-4162-c6da-bdb95e620233"
      },
      "execution_count": null,
      "outputs": [
        {
          "output_type": "error",
          "ename": "TypeError",
          "evalue": "'tuple' object does not support item assignment",
          "traceback": [
            "\u001b[0;31m---------------------------------------------------------------------------\u001b[0m",
            "\u001b[0;31mTypeError\u001b[0m                                 Traceback (most recent call last)",
            "\u001b[0;32m<ipython-input-11-5c572ff9ef2e>\u001b[0m in \u001b[0;36m<cell line: 0>\u001b[0;34m()\u001b[0m\n\u001b[0;32m----> 1\u001b[0;31m \u001b[0mpoint\u001b[0m\u001b[0;34m[\u001b[0m\u001b[0;36m0\u001b[0m\u001b[0;34m]\u001b[0m \u001b[0;34m=\u001b[0m \u001b[0;36m6\u001b[0m\u001b[0;34m\u001b[0m\u001b[0;34m\u001b[0m\u001b[0m\n\u001b[0m",
            "\u001b[0;31mTypeError\u001b[0m: 'tuple' object does not support item assignment"
          ]
        }
      ]
    },
    {
      "cell_type": "markdown",
      "source": [
        "- Explanation:\n",
        "\n",
        "Lists are mutable: We can change their elements after creation.\n",
        "\n",
        "Tuples are immutable: We cannot change their elements once defined."
      ],
      "metadata": {
        "id": "-ViZBdIrPMa5"
      }
    },
    {
      "cell_type": "markdown",
      "source": [
        "6.Write a function to demonstrate the behaviour of mutable and immutable arguments."
      ],
      "metadata": {
        "id": "huQXAp2XPiMU"
      }
    },
    {
      "cell_type": "code",
      "source": [
        "list_cont = [1, 2, 3, True, \"pwskills\"]"
      ],
      "metadata": {
        "id": "QF6RVyePLEF1"
      },
      "execution_count": null,
      "outputs": []
    },
    {
      "cell_type": "code",
      "source": [
        "list_cont[0] = 100"
      ],
      "metadata": {
        "id": "pA_TaJamLhVg"
      },
      "execution_count": null,
      "outputs": []
    },
    {
      "cell_type": "code",
      "source": [
        "list_cont"
      ],
      "metadata": {
        "colab": {
          "base_uri": "https://localhost:8080/"
        },
        "id": "aKXpOYAgLtjs",
        "outputId": "503a92ce-c3f3-4845-a4e1-78904b9e3b77"
      },
      "execution_count": null,
      "outputs": [
        {
          "output_type": "execute_result",
          "data": {
            "text/plain": [
              "[100, 2, 3, True, 'pwskills']"
            ]
          },
          "metadata": {},
          "execution_count": 65
        }
      ]
    },
    {
      "cell_type": "code",
      "source": [
        "list_cont[3] = False"
      ],
      "metadata": {
        "id": "EtPCRZMcLtaq"
      },
      "execution_count": null,
      "outputs": []
    },
    {
      "cell_type": "code",
      "source": [
        "list_cont"
      ],
      "metadata": {
        "colab": {
          "base_uri": "https://localhost:8080/"
        },
        "id": "kbPgFkm5LtPd",
        "outputId": "829c5637-5a0f-4abf-cb0f-88aab8d02407"
      },
      "execution_count": null,
      "outputs": [
        {
          "output_type": "execute_result",
          "data": {
            "text/plain": [
              "[100, 2, 3, False, 'pwskills']"
            ]
          },
          "metadata": {},
          "execution_count": 67
        }
      ]
    },
    {
      "cell_type": "code",
      "source": [
        "list_cont[4] = \"Salman\""
      ],
      "metadata": {
        "id": "YqgQajQiLtBI"
      },
      "execution_count": null,
      "outputs": []
    },
    {
      "cell_type": "code",
      "source": [
        "list_cont"
      ],
      "metadata": {
        "colab": {
          "base_uri": "https://localhost:8080/"
        },
        "id": "8zjAamDBMHFp",
        "outputId": "23771e33-be3a-45aa-89d9-69f26a4616ae"
      },
      "execution_count": null,
      "outputs": [
        {
          "output_type": "execute_result",
          "data": {
            "text/plain": [
              "[100, 2, 3, False, 'Salman']"
            ]
          },
          "metadata": {},
          "execution_count": 69
        }
      ]
    },
    {
      "cell_type": "markdown",
      "source": [
        "- List is a type of mutable object that supports item assignment"
      ],
      "metadata": {
        "id": "MI1XnDciMU2V"
      }
    },
    {
      "cell_type": "code",
      "source": [
        "a = \"pwskills\""
      ],
      "metadata": {
        "id": "U4fP_ircMG0m"
      },
      "execution_count": null,
      "outputs": []
    },
    {
      "cell_type": "code",
      "source": [
        "a[0]"
      ],
      "metadata": {
        "colab": {
          "base_uri": "https://localhost:8080/",
          "height": 36
        },
        "id": "qWkoBo4jMGgK",
        "outputId": "fd790e7a-f4d5-432d-e8b6-1b7bdafa9f45"
      },
      "execution_count": null,
      "outputs": [
        {
          "output_type": "execute_result",
          "data": {
            "text/plain": [
              "'p'"
            ],
            "application/vnd.google.colaboratory.intrinsic+json": {
              "type": "string"
            }
          },
          "metadata": {},
          "execution_count": 71
        }
      ]
    },
    {
      "cell_type": "code",
      "source": [
        "a[0] = \"I\""
      ],
      "metadata": {
        "colab": {
          "base_uri": "https://localhost:8080/",
          "height": 141
        },
        "id": "yU31JkM_MnXW",
        "outputId": "69af6a0d-037d-4a2f-a391-01e6b53677f0"
      },
      "execution_count": null,
      "outputs": [
        {
          "output_type": "error",
          "ename": "TypeError",
          "evalue": "'str' object does not support item assignment",
          "traceback": [
            "\u001b[0;31m---------------------------------------------------------------------------\u001b[0m",
            "\u001b[0;31mTypeError\u001b[0m                                 Traceback (most recent call last)",
            "\u001b[0;32m<ipython-input-72-b055ba912816>\u001b[0m in \u001b[0;36m<cell line: 0>\u001b[0;34m()\u001b[0m\n\u001b[0;32m----> 1\u001b[0;31m \u001b[0ma\u001b[0m\u001b[0;34m[\u001b[0m\u001b[0;36m0\u001b[0m\u001b[0;34m]\u001b[0m \u001b[0;34m=\u001b[0m \u001b[0;34m\"I\"\u001b[0m\u001b[0;34m\u001b[0m\u001b[0;34m\u001b[0m\u001b[0m\n\u001b[0m",
            "\u001b[0;31mTypeError\u001b[0m: 'str' object does not support item assignment"
          ]
        }
      ]
    },
    {
      "cell_type": "markdown",
      "source": [
        "- Whereas String is a type of immutable object that does not supports item assignment"
      ],
      "metadata": {
        "id": "vNkyXfMrMwME"
      }
    },
    {
      "cell_type": "markdown",
      "source": [
        "7.Write a program that performs basic arithmetic operations on two user-input numbers."
      ],
      "metadata": {
        "id": "k3MyzOPdQwD4"
      }
    },
    {
      "cell_type": "code",
      "source": [
        "a = int(input(\"Enter first number \"))\n",
        "b = int(input(\"Enter second number \"))\n",
        "\n",
        "a + b"
      ],
      "metadata": {
        "colab": {
          "base_uri": "https://localhost:8080/"
        },
        "id": "KwfbrTw1O75-",
        "outputId": "9e84eb60-2b38-40a6-9bc6-a62aae13a878"
      },
      "execution_count": null,
      "outputs": [
        {
          "name": "stdout",
          "output_type": "stream",
          "text": [
            "Enter first number 25\n",
            "Enter second number 5\n"
          ]
        },
        {
          "output_type": "execute_result",
          "data": {
            "text/plain": [
              "30"
            ]
          },
          "metadata": {},
          "execution_count": 18
        }
      ]
    },
    {
      "cell_type": "markdown",
      "source": [
        "8.Write a program to demonstrate the use of logical operators."
      ],
      "metadata": {
        "id": "61yjiKPJV_VL"
      }
    },
    {
      "cell_type": "code",
      "source": [
        "a = True\n",
        "b = False"
      ],
      "metadata": {
        "id": "C9f2auddVTOd"
      },
      "execution_count": null,
      "outputs": []
    },
    {
      "cell_type": "code",
      "source": [
        "a and a"
      ],
      "metadata": {
        "colab": {
          "base_uri": "https://localhost:8080/"
        },
        "id": "7b6q_n3iW7e7",
        "outputId": "08d053c3-9279-4f0d-8ee9-602411fb77c6"
      },
      "execution_count": null,
      "outputs": [
        {
          "output_type": "execute_result",
          "data": {
            "text/plain": [
              "True"
            ]
          },
          "metadata": {},
          "execution_count": 25
        }
      ]
    },
    {
      "cell_type": "code",
      "source": [
        "a and b"
      ],
      "metadata": {
        "colab": {
          "base_uri": "https://localhost:8080/"
        },
        "id": "DVL2MfirW9tH",
        "outputId": "5028bbb7-9a52-4e4c-89ed-782a4b863ba0"
      },
      "execution_count": null,
      "outputs": [
        {
          "output_type": "execute_result",
          "data": {
            "text/plain": [
              "False"
            ]
          },
          "metadata": {},
          "execution_count": 22
        }
      ]
    },
    {
      "cell_type": "code",
      "source": [
        "a or a"
      ],
      "metadata": {
        "colab": {
          "base_uri": "https://localhost:8080/"
        },
        "id": "OX5woeplXBsF",
        "outputId": "4e4a6fde-7d71-4941-afce-2a754331e16b"
      },
      "execution_count": null,
      "outputs": [
        {
          "output_type": "execute_result",
          "data": {
            "text/plain": [
              "True"
            ]
          },
          "metadata": {},
          "execution_count": 26
        }
      ]
    },
    {
      "cell_type": "code",
      "source": [
        "a or b"
      ],
      "metadata": {
        "colab": {
          "base_uri": "https://localhost:8080/"
        },
        "id": "rgxKhBEmXL_K",
        "outputId": "0e1ba16f-c67d-4f98-9b11-552b6f6501e6"
      },
      "execution_count": null,
      "outputs": [
        {
          "output_type": "execute_result",
          "data": {
            "text/plain": [
              "True"
            ]
          },
          "metadata": {},
          "execution_count": 27
        }
      ]
    },
    {
      "cell_type": "markdown",
      "source": [
        "9.Write a python program to convert user input from string to integer, float, and boolean types."
      ],
      "metadata": {
        "id": "Tvai-hjOXa0p"
      }
    },
    {
      "cell_type": "code",
      "source": [
        "a = \"2\"\n",
        "type(a)"
      ],
      "metadata": {
        "colab": {
          "base_uri": "https://localhost:8080/"
        },
        "id": "bZJ23ngmXsbR",
        "outputId": "b600dfd7-5cf6-4bdc-ffcc-f470277205bf"
      },
      "execution_count": null,
      "outputs": [
        {
          "output_type": "execute_result",
          "data": {
            "text/plain": [
              "str"
            ]
          },
          "metadata": {},
          "execution_count": 34
        }
      ]
    },
    {
      "cell_type": "code",
      "source": [
        "type(int(a))"
      ],
      "metadata": {
        "colab": {
          "base_uri": "https://localhost:8080/"
        },
        "id": "1JlHPETuYBv4",
        "outputId": "283091f8-c6c5-45a1-e61c-515f760f1c8e"
      },
      "execution_count": null,
      "outputs": [
        {
          "output_type": "execute_result",
          "data": {
            "text/plain": [
              "int"
            ]
          },
          "metadata": {},
          "execution_count": 35
        }
      ]
    },
    {
      "cell_type": "code",
      "source": [
        "b = \"2.5\"\n",
        "type(b)"
      ],
      "metadata": {
        "colab": {
          "base_uri": "https://localhost:8080/"
        },
        "id": "qRso15pgZGBP",
        "outputId": "c302459b-ae27-4d91-e31b-97c5feaf6f36"
      },
      "execution_count": null,
      "outputs": [
        {
          "output_type": "execute_result",
          "data": {
            "text/plain": [
              "str"
            ]
          },
          "metadata": {},
          "execution_count": 36
        }
      ]
    },
    {
      "cell_type": "code",
      "source": [
        "type(float(b))"
      ],
      "metadata": {
        "colab": {
          "base_uri": "https://localhost:8080/"
        },
        "id": "MtNrw8gdZWx0",
        "outputId": "239527cc-ea7f-4b50-928f-245a3f575475"
      },
      "execution_count": null,
      "outputs": [
        {
          "output_type": "execute_result",
          "data": {
            "text/plain": [
              "float"
            ]
          },
          "metadata": {},
          "execution_count": 37
        }
      ]
    },
    {
      "cell_type": "code",
      "source": [
        "c = \"True\"\n",
        "type(c)"
      ],
      "metadata": {
        "colab": {
          "base_uri": "https://localhost:8080/"
        },
        "id": "4c0K5A0qZbf_",
        "outputId": "42bca3d7-535a-4f65-ed71-16fef5500481"
      },
      "execution_count": null,
      "outputs": [
        {
          "output_type": "execute_result",
          "data": {
            "text/plain": [
              "str"
            ]
          },
          "metadata": {},
          "execution_count": 38
        }
      ]
    },
    {
      "cell_type": "code",
      "source": [
        "type(bool(c))"
      ],
      "metadata": {
        "colab": {
          "base_uri": "https://localhost:8080/"
        },
        "id": "aYeMKFy2ZkQk",
        "outputId": "98a1a1f5-9292-450b-db02-0784ad7b6fd3"
      },
      "execution_count": null,
      "outputs": [
        {
          "output_type": "execute_result",
          "data": {
            "text/plain": [
              "bool"
            ]
          },
          "metadata": {},
          "execution_count": 40
        }
      ]
    },
    {
      "cell_type": "markdown",
      "source": [
        "10.Write code to demonstrate type casting with list elements."
      ],
      "metadata": {
        "id": "miP3c4YyZ11U"
      }
    },
    {
      "cell_type": "code",
      "source": [
        "a = [\"1\", \"2\", \"3\"]"
      ],
      "metadata": {
        "id": "dj7liIM7Ztsx"
      },
      "execution_count": null,
      "outputs": []
    },
    {
      "cell_type": "code",
      "source": [
        "a[0] = 1\n",
        "a[1] = 2\n",
        "a[2] = 3"
      ],
      "metadata": {
        "id": "x8mVMgo2dc5m"
      },
      "execution_count": null,
      "outputs": []
    },
    {
      "cell_type": "code",
      "source": [
        "a"
      ],
      "metadata": {
        "colab": {
          "base_uri": "https://localhost:8080/"
        },
        "id": "DljJS_Fvd25P",
        "outputId": "08cbcad3-65e2-4a08-e391-e598b7e34596"
      },
      "execution_count": null,
      "outputs": [
        {
          "output_type": "execute_result",
          "data": {
            "text/plain": [
              "[1, 2, 3]"
            ]
          },
          "metadata": {},
          "execution_count": 62
        }
      ]
    },
    {
      "cell_type": "markdown",
      "source": [
        "11.Write a program that checks if a number is positive, negative, or zero."
      ],
      "metadata": {
        "id": "qR4L7w1LNgTM"
      }
    },
    {
      "cell_type": "code",
      "source": [
        "C = 3\n",
        "\n",
        "if C > 0:\n",
        "  print(\"The number is positive.\")\n",
        "elif C < 0:\n",
        "  print(\"The number is negative.\")\n",
        "else:\n",
        "  print(\"The number is zero.\")"
      ],
      "metadata": {
        "colab": {
          "base_uri": "https://localhost:8080/"
        },
        "id": "d3bGbZzKJyQV",
        "outputId": "53a53cb9-1c4d-4eef-8433-46e66548f52e"
      },
      "execution_count": null,
      "outputs": [
        {
          "output_type": "stream",
          "name": "stdout",
          "text": [
            "The number is positive.\n"
          ]
        }
      ]
    },
    {
      "cell_type": "code",
      "source": [
        "C = -3\n",
        "\n",
        "if C > 0:\n",
        "  print(\"The number is positive.\")\n",
        "elif C < 0:\n",
        "  print(\"The number is negative.\")\n",
        "else:\n",
        "  print(\"The number is zero.\")"
      ],
      "metadata": {
        "colab": {
          "base_uri": "https://localhost:8080/"
        },
        "id": "cN7zi-G6PChe",
        "outputId": "0b838f27-c8e7-4003-bedd-8f4427e06a66"
      },
      "execution_count": null,
      "outputs": [
        {
          "output_type": "stream",
          "name": "stdout",
          "text": [
            "The number is negative.\n"
          ]
        }
      ]
    },
    {
      "cell_type": "code",
      "source": [
        "C = 0\n",
        "\n",
        "if C > 0:\n",
        "  print(\"The number is positive.\")\n",
        "elif C < 0:\n",
        "  print(\"The number is negative.\")\n",
        "else:\n",
        "  print(\"The number is zero.\")"
      ],
      "metadata": {
        "colab": {
          "base_uri": "https://localhost:8080/"
        },
        "id": "hZT_-eRuN-7p",
        "outputId": "3dc4b530-d6b0-4158-c587-6695c7ac1744"
      },
      "execution_count": null,
      "outputs": [
        {
          "output_type": "stream",
          "name": "stdout",
          "text": [
            "The number is zero.\n"
          ]
        }
      ]
    },
    {
      "cell_type": "markdown",
      "source": [
        "12.Write a for loop to print numbers from 1 to 10."
      ],
      "metadata": {
        "id": "GpkgP85oPMR5"
      }
    },
    {
      "cell_type": "code",
      "source": [
        "for i in range(1,11):\n",
        "  print(i)"
      ],
      "metadata": {
        "colab": {
          "base_uri": "https://localhost:8080/"
        },
        "id": "enLBF1t3PIya",
        "outputId": "a77b79f2-0f4b-4884-cb23-046a0a3d4372"
      },
      "execution_count": null,
      "outputs": [
        {
          "output_type": "stream",
          "name": "stdout",
          "text": [
            "1\n",
            "2\n",
            "3\n",
            "4\n",
            "5\n",
            "6\n",
            "7\n",
            "8\n",
            "9\n",
            "10\n"
          ]
        }
      ]
    },
    {
      "cell_type": "markdown",
      "source": [
        "13.Write a Python program to find the sum of all even numbers between 1 and 50."
      ],
      "metadata": {
        "id": "oWP_YeeyQD5a"
      }
    },
    {
      "cell_type": "code",
      "source": [
        "for i in range(1,51):\n",
        "  if i%2 == 0:\n",
        "    print(i)"
      ],
      "metadata": {
        "colab": {
          "base_uri": "https://localhost:8080/"
        },
        "id": "rzqchCC3P9yL",
        "outputId": "ec995dcf-3ece-4afe-b6c5-2a72bcd67a41"
      },
      "execution_count": null,
      "outputs": [
        {
          "output_type": "stream",
          "name": "stdout",
          "text": [
            "2\n",
            "4\n",
            "6\n",
            "8\n",
            "10\n",
            "12\n",
            "14\n",
            "16\n",
            "18\n",
            "20\n",
            "22\n",
            "24\n",
            "26\n",
            "28\n",
            "30\n",
            "32\n",
            "34\n",
            "36\n",
            "38\n",
            "40\n",
            "42\n",
            "44\n",
            "46\n",
            "48\n",
            "50\n"
          ]
        }
      ]
    },
    {
      "cell_type": "markdown",
      "source": [
        "14.Write a program to reverse a string using a while loop."
      ],
      "metadata": {
        "id": "1_CPhvHcSBl_"
      }
    },
    {
      "cell_type": "code",
      "source": [
        "a = \"pwskills\"\n",
        "\n",
        "reversed_a = \"\"\n",
        "\n",
        "i = len(a) - 1\n",
        "\n",
        "while i >= 0:\n",
        "    reversed_a += a[i]\n",
        "    i -= 1\n",
        "\n",
        "print(reversed_a)\n"
      ],
      "metadata": {
        "colab": {
          "base_uri": "https://localhost:8080/"
        },
        "id": "7nLzrKsNwReK",
        "outputId": "9816851b-7083-4a85-bf96-7e3b2341300c"
      },
      "execution_count": 2,
      "outputs": [
        {
          "output_type": "stream",
          "name": "stdout",
          "text": [
            "sllikswp\n"
          ]
        }
      ]
    },
    {
      "cell_type": "markdown",
      "source": [
        "15.Write a Python program to calculate the factorial of a number provided by the user using a while loop."
      ],
      "metadata": {
        "id": "Fy8ZJ1f2w3oZ"
      }
    },
    {
      "cell_type": "code",
      "source": [
        "a = int(input(\"Enter a non-negative integer- \"))\n",
        "\n",
        "factorial = 1\n",
        "\n",
        "if a < 0:\n",
        "    print(\"Factorial is not defined for negative numbers.\")\n",
        "else:\n",
        "    i = 1\n",
        "    while i <= a:\n",
        "        factorial *= i\n",
        "        i = i + 1\n",
        "    print(f\"The factorial of {a} is {factorial}\")\n"
      ],
      "metadata": {
        "colab": {
          "base_uri": "https://localhost:8080/"
        },
        "id": "TrN5dR6LxGkm",
        "outputId": "288d099f-4c4c-4c13-de1e-10f5dcc55da3"
      },
      "execution_count": 6,
      "outputs": [
        {
          "output_type": "stream",
          "name": "stdout",
          "text": [
            "Enter a non-negative integer- 5\n",
            "The factorial of 5 is 120\n"
          ]
        }
      ]
    }
  ]
}